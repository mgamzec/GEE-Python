{
 "cells": [
  {
   "cell_type": "markdown",
   "metadata": {
    "id": "HXC6E9TYLw8r"
   },
   "source": [
    "**Calculate NDVI in Python**\n",
    "Sometimes you can download already calculated NDVI data products from a data provider.\n",
    "\n",
    "However, in this case, you don’t have a pre calculated NDVI product from NAIP data. You need to calculate NDVI using the NAIP imagery / reflectance data that you have downloaded from Earth Explorer.\n",
    "\n",
    "**How to Derive the NDVI Vegetation Index From Multispectral Imagery**\n",
    "The normalized difference vegetation index (NDVI) uses a ratio between near infrared and red light within the electromagnetic spectrum. To calculate NDVI you use the following formula where NIR is near infrared light and red represents red light. For your raster data, you will take the reflectance value in the red and near infrared bands to calculate the index.\n",
    "\n",
    "(NIR - Red) / (NIR + Red)\n",
    "\n",
    "You can perform this calculation using matrix math with the numpy library.\n",
    "\n",
    "To get started, load all of the required Python libraries."
   ]
  },
  {
   "cell_type": "code",
   "execution_count": 1,
   "metadata": {
    "colab": {
     "base_uri": "https://localhost:8080/"
    },
    "id": "zJ9X2BLML_u4",
    "outputId": "95b6cb96-9c64-4683-ec2c-13a783c4b36e"
   },
   "outputs": [
    {
     "name": "stdout",
     "output_type": "stream",
     "text": [
      "Collecting rioxarray\n",
      "  Downloading rioxarray-0.12.0-py3-none-any.whl (51 kB)\n",
      "     -------------------------------------- 51.5/51.5 kB 175.5 kB/s eta 0:00:00\n",
      "Collecting xarray>=0.17\n",
      "  Downloading xarray-2022.6.0-py3-none-any.whl (927 kB)\n",
      "     -------------------------------------- 927.2/927.2 kB 1.2 MB/s eta 0:00:00\n",
      "Requirement already satisfied: packaging in c:\\users\\lawrence\\anaconda3\\envs\\geo_env\\lib\\site-packages (from rioxarray) (21.3)\n",
      "Requirement already satisfied: pyproj>=2.2 in c:\\users\\lawrence\\anaconda3\\envs\\geo_env\\lib\\site-packages (from rioxarray) (3.3.1)\n",
      "Requirement already satisfied: rasterio>=1.1.1 in c:\\users\\lawrence\\anaconda3\\envs\\geo_env\\lib\\site-packages (from rioxarray) (1.3.0)\n",
      "Requirement already satisfied: certifi in c:\\users\\lawrence\\anaconda3\\envs\\geo_env\\lib\\site-packages (from pyproj>=2.2->rioxarray) (2022.6.15)\n",
      "Requirement already satisfied: attrs in c:\\users\\lawrence\\anaconda3\\envs\\geo_env\\lib\\site-packages (from rasterio>=1.1.1->rioxarray) (21.4.0)\n",
      "Requirement already satisfied: snuggs>=1.4.1 in c:\\users\\lawrence\\anaconda3\\envs\\geo_env\\lib\\site-packages (from rasterio>=1.1.1->rioxarray) (1.4.7)\n",
      "Requirement already satisfied: click>=4.0 in c:\\users\\lawrence\\anaconda3\\envs\\geo_env\\lib\\site-packages (from rasterio>=1.1.1->rioxarray) (8.1.3)\n",
      "Requirement already satisfied: numpy in c:\\users\\lawrence\\anaconda3\\envs\\geo_env\\lib\\site-packages (from rasterio>=1.1.1->rioxarray) (1.22.4)\n",
      "Requirement already satisfied: click-plugins in c:\\users\\lawrence\\anaconda3\\envs\\geo_env\\lib\\site-packages (from rasterio>=1.1.1->rioxarray) (1.1.1)\n",
      "Requirement already satisfied: cligj>=0.5 in c:\\users\\lawrence\\anaconda3\\envs\\geo_env\\lib\\site-packages (from rasterio>=1.1.1->rioxarray) (0.7.2)\n",
      "Requirement already satisfied: affine in c:\\users\\lawrence\\anaconda3\\envs\\geo_env\\lib\\site-packages (from rasterio>=1.1.1->rioxarray) (2.3.1)\n",
      "Requirement already satisfied: setuptools in c:\\users\\lawrence\\anaconda3\\envs\\geo_env\\lib\\site-packages (from rasterio>=1.1.1->rioxarray) (62.3.2)\n",
      "Requirement already satisfied: pandas>=1.2 in c:\\users\\lawrence\\anaconda3\\envs\\geo_env\\lib\\site-packages (from xarray>=0.17->rioxarray) (1.4.2)\n",
      "Requirement already satisfied: pyparsing!=3.0.5,>=2.0.2 in c:\\users\\lawrence\\anaconda3\\envs\\geo_env\\lib\\site-packages (from packaging->rioxarray) (3.0.9)\n",
      "Requirement already satisfied: colorama in c:\\users\\lawrence\\anaconda3\\envs\\geo_env\\lib\\site-packages (from click>=4.0->rasterio>=1.1.1->rioxarray) (0.4.4)\n",
      "Requirement already satisfied: pytz>=2020.1 in c:\\users\\lawrence\\anaconda3\\envs\\geo_env\\lib\\site-packages (from pandas>=1.2->xarray>=0.17->rioxarray) (2022.1)\n",
      "Requirement already satisfied: python-dateutil>=2.8.1 in c:\\users\\lawrence\\anaconda3\\envs\\geo_env\\lib\\site-packages (from pandas>=1.2->xarray>=0.17->rioxarray) (2.8.2)\n",
      "Requirement already satisfied: six>=1.5 in c:\\users\\lawrence\\anaconda3\\envs\\geo_env\\lib\\site-packages (from python-dateutil>=2.8.1->pandas>=1.2->xarray>=0.17->rioxarray) (1.16.0)\n",
      "Installing collected packages: xarray, rioxarray\n",
      "Successfully installed rioxarray-0.12.0 xarray-2022.6.0\n",
      "Requirement already satisfied: geopandas in c:\\users\\lawrence\\anaconda3\\envs\\geo_env\\lib\\site-packages (0.10.2)\n",
      "Requirement already satisfied: pyproj>=2.2.0 in c:\\users\\lawrence\\anaconda3\\envs\\geo_env\\lib\\site-packages (from geopandas) (3.3.1)\n",
      "Requirement already satisfied: shapely>=1.6 in c:\\users\\lawrence\\anaconda3\\envs\\geo_env\\lib\\site-packages (from geopandas) (1.8.2)\n",
      "Requirement already satisfied: pandas>=0.25.0 in c:\\users\\lawrence\\anaconda3\\envs\\geo_env\\lib\\site-packages (from geopandas) (1.4.2)\n",
      "Requirement already satisfied: fiona>=1.8 in c:\\users\\lawrence\\anaconda3\\envs\\geo_env\\lib\\site-packages (from geopandas) (1.8.21)\n",
      "Requirement already satisfied: attrs>=17 in c:\\users\\lawrence\\anaconda3\\envs\\geo_env\\lib\\site-packages (from fiona>=1.8->geopandas) (21.4.0)\n",
      "Requirement already satisfied: certifi in c:\\users\\lawrence\\anaconda3\\envs\\geo_env\\lib\\site-packages (from fiona>=1.8->geopandas) (2022.6.15)\n",
      "Requirement already satisfied: click>=4.0 in c:\\users\\lawrence\\anaconda3\\envs\\geo_env\\lib\\site-packages (from fiona>=1.8->geopandas) (8.1.3)\n",
      "Requirement already satisfied: cligj>=0.5 in c:\\users\\lawrence\\anaconda3\\envs\\geo_env\\lib\\site-packages (from fiona>=1.8->geopandas) (0.7.2)\n",
      "Requirement already satisfied: click-plugins>=1.0 in c:\\users\\lawrence\\anaconda3\\envs\\geo_env\\lib\\site-packages (from fiona>=1.8->geopandas) (1.1.1)\n",
      "Requirement already satisfied: six>=1.7 in c:\\users\\lawrence\\anaconda3\\envs\\geo_env\\lib\\site-packages (from fiona>=1.8->geopandas) (1.16.0)\n",
      "Requirement already satisfied: munch in c:\\users\\lawrence\\anaconda3\\envs\\geo_env\\lib\\site-packages (from fiona>=1.8->geopandas) (2.5.0)\n",
      "Requirement already satisfied: setuptools in c:\\users\\lawrence\\anaconda3\\envs\\geo_env\\lib\\site-packages (from fiona>=1.8->geopandas) (62.3.2)\n",
      "Requirement already satisfied: python-dateutil>=2.8.1 in c:\\users\\lawrence\\anaconda3\\envs\\geo_env\\lib\\site-packages (from pandas>=0.25.0->geopandas) (2.8.2)\n",
      "Requirement already satisfied: pytz>=2020.1 in c:\\users\\lawrence\\anaconda3\\envs\\geo_env\\lib\\site-packages (from pandas>=0.25.0->geopandas) (2022.1)\n",
      "Requirement already satisfied: numpy>=1.21.0 in c:\\users\\lawrence\\anaconda3\\envs\\geo_env\\lib\\site-packages (from pandas>=0.25.0->geopandas) (1.22.4)\n",
      "Requirement already satisfied: colorama in c:\\users\\lawrence\\anaconda3\\envs\\geo_env\\lib\\site-packages (from click>=4.0->fiona>=1.8->geopandas) (0.4.4)\n",
      "Collecting earthpy\n",
      "  Using cached earthpy-0.9.4-py3-none-any.whl (1.4 MB)\n",
      "Requirement already satisfied: matplotlib>=2.0.0 in c:\\users\\lawrence\\anaconda3\\envs\\geo_env\\lib\\site-packages (from earthpy) (3.5.2)\n",
      "Requirement already satisfied: numpy>=1.14.0 in c:\\users\\lawrence\\anaconda3\\envs\\geo_env\\lib\\site-packages (from earthpy) (1.22.4)\n",
      "Requirement already satisfied: rasterio in c:\\users\\lawrence\\anaconda3\\envs\\geo_env\\lib\\site-packages (from earthpy) (1.3.0)\n",
      "Requirement already satisfied: geopandas in c:\\users\\lawrence\\anaconda3\\envs\\geo_env\\lib\\site-packages (from earthpy) (0.10.2)\n",
      "Requirement already satisfied: scikit-image in c:\\users\\lawrence\\anaconda3\\envs\\geo_env\\lib\\site-packages (from earthpy) (0.19.3)\n",
      "Requirement already satisfied: requests in c:\\users\\lawrence\\anaconda3\\envs\\geo_env\\lib\\site-packages (from earthpy) (2.27.1)\n",
      "Requirement already satisfied: pillow>=6.2.0 in c:\\users\\lawrence\\anaconda3\\envs\\geo_env\\lib\\site-packages (from matplotlib>=2.0.0->earthpy) (9.1.0)\n",
      "Requirement already satisfied: python-dateutil>=2.7 in c:\\users\\lawrence\\anaconda3\\envs\\geo_env\\lib\\site-packages (from matplotlib>=2.0.0->earthpy) (2.8.2)\n",
      "Requirement already satisfied: kiwisolver>=1.0.1 in c:\\users\\lawrence\\anaconda3\\envs\\geo_env\\lib\\site-packages (from matplotlib>=2.0.0->earthpy) (1.4.2)\n",
      "Requirement already satisfied: fonttools>=4.22.0 in c:\\users\\lawrence\\anaconda3\\envs\\geo_env\\lib\\site-packages (from matplotlib>=2.0.0->earthpy) (4.33.3)\n",
      "Requirement already satisfied: cycler>=0.10 in c:\\users\\lawrence\\anaconda3\\envs\\geo_env\\lib\\site-packages (from matplotlib>=2.0.0->earthpy) (0.11.0)\n",
      "Requirement already satisfied: packaging>=20.0 in c:\\users\\lawrence\\anaconda3\\envs\\geo_env\\lib\\site-packages (from matplotlib>=2.0.0->earthpy) (21.3)\n",
      "Requirement already satisfied: pyparsing>=2.2.1 in c:\\users\\lawrence\\anaconda3\\envs\\geo_env\\lib\\site-packages (from matplotlib>=2.0.0->earthpy) (3.0.9)\n",
      "Requirement already satisfied: shapely>=1.6 in c:\\users\\lawrence\\anaconda3\\envs\\geo_env\\lib\\site-packages (from geopandas->earthpy) (1.8.2)\n",
      "Requirement already satisfied: pyproj>=2.2.0 in c:\\users\\lawrence\\anaconda3\\envs\\geo_env\\lib\\site-packages (from geopandas->earthpy) (3.3.1)\n",
      "Requirement already satisfied: pandas>=0.25.0 in c:\\users\\lawrence\\anaconda3\\envs\\geo_env\\lib\\site-packages (from geopandas->earthpy) (1.4.2)\n",
      "Requirement already satisfied: fiona>=1.8 in c:\\users\\lawrence\\anaconda3\\envs\\geo_env\\lib\\site-packages (from geopandas->earthpy) (1.8.21)\n",
      "Requirement already satisfied: attrs in c:\\users\\lawrence\\anaconda3\\envs\\geo_env\\lib\\site-packages (from rasterio->earthpy) (21.4.0)\n",
      "Requirement already satisfied: setuptools in c:\\users\\lawrence\\anaconda3\\envs\\geo_env\\lib\\site-packages (from rasterio->earthpy) (62.3.2)\n",
      "Requirement already satisfied: cligj>=0.5 in c:\\users\\lawrence\\anaconda3\\envs\\geo_env\\lib\\site-packages (from rasterio->earthpy) (0.7.2)\n",
      "Requirement already satisfied: snuggs>=1.4.1 in c:\\users\\lawrence\\anaconda3\\envs\\geo_env\\lib\\site-packages (from rasterio->earthpy) (1.4.7)\n",
      "Requirement already satisfied: click-plugins in c:\\users\\lawrence\\anaconda3\\envs\\geo_env\\lib\\site-packages (from rasterio->earthpy) (1.1.1)\n",
      "Requirement already satisfied: click>=4.0 in c:\\users\\lawrence\\anaconda3\\envs\\geo_env\\lib\\site-packages (from rasterio->earthpy) (8.1.3)\n",
      "Requirement already satisfied: affine in c:\\users\\lawrence\\anaconda3\\envs\\geo_env\\lib\\site-packages (from rasterio->earthpy) (2.3.1)\n",
      "Requirement already satisfied: certifi in c:\\users\\lawrence\\anaconda3\\envs\\geo_env\\lib\\site-packages (from rasterio->earthpy) (2022.6.15)\n",
      "Requirement already satisfied: idna<4,>=2.5 in c:\\users\\lawrence\\anaconda3\\envs\\geo_env\\lib\\site-packages (from requests->earthpy) (3.3)\n",
      "Requirement already satisfied: urllib3<1.27,>=1.21.1 in c:\\users\\lawrence\\anaconda3\\envs\\geo_env\\lib\\site-packages (from requests->earthpy) (1.26.9)\n",
      "Requirement already satisfied: charset-normalizer~=2.0.0 in c:\\users\\lawrence\\anaconda3\\envs\\geo_env\\lib\\site-packages (from requests->earthpy) (2.0.12)\n",
      "Requirement already satisfied: scipy>=1.4.1 in c:\\users\\lawrence\\anaconda3\\envs\\geo_env\\lib\\site-packages (from scikit-image->earthpy) (1.8.1)\n",
      "Requirement already satisfied: networkx>=2.2 in c:\\users\\lawrence\\anaconda3\\envs\\geo_env\\lib\\site-packages (from scikit-image->earthpy) (2.8.3)\n",
      "Requirement already satisfied: tifffile>=2019.7.26 in c:\\users\\lawrence\\anaconda3\\envs\\geo_env\\lib\\site-packages (from scikit-image->earthpy) (2022.5.4)\n",
      "Requirement already satisfied: PyWavelets>=1.1.1 in c:\\users\\lawrence\\anaconda3\\envs\\geo_env\\lib\\site-packages (from scikit-image->earthpy) (1.3.0)\n",
      "Requirement already satisfied: imageio>=2.4.1 in c:\\users\\lawrence\\anaconda3\\envs\\geo_env\\lib\\site-packages (from scikit-image->earthpy) (2.19.3)\n",
      "Requirement already satisfied: colorama in c:\\users\\lawrence\\anaconda3\\envs\\geo_env\\lib\\site-packages (from click>=4.0->rasterio->earthpy) (0.4.4)\n",
      "Requirement already satisfied: six>=1.7 in c:\\users\\lawrence\\anaconda3\\envs\\geo_env\\lib\\site-packages (from fiona>=1.8->geopandas->earthpy) (1.16.0)\n",
      "Requirement already satisfied: munch in c:\\users\\lawrence\\anaconda3\\envs\\geo_env\\lib\\site-packages (from fiona>=1.8->geopandas->earthpy) (2.5.0)\n",
      "Requirement already satisfied: pytz>=2020.1 in c:\\users\\lawrence\\anaconda3\\envs\\geo_env\\lib\\site-packages (from pandas>=0.25.0->geopandas->earthpy) (2022.1)\n",
      "Installing collected packages: earthpy\n",
      "Successfully installed earthpy-0.9.4\n"
     ]
    }
   ],
   "source": [
    "!pip install rioxarray\n",
    "!pip install geopandas\n",
    "!pip install earthpy"
   ]
  },
  {
   "cell_type": "code",
   "execution_count": null,
   "metadata": {
    "colab": {
     "base_uri": "https://localhost:8080/"
    },
    "id": "dFwGJQHbLL4R",
    "outputId": "5a41abd8-5532-4378-afa5-beb80c765fac"
   },
   "outputs": [],
   "source": [
    "import os\n",
    "\n",
    "import matplotlib.pyplot as plt\n",
    "import numpy as np\n",
    "import rioxarray as rxr\n",
    "import geopandas as gpd\n",
    "import earthpy as et\n",
    "import earthpy.spatial as es\n",
    "import earthpy.plot as ep\n",
    "\n",
    "# Download data and set working directory\n",
    "data = et.data.get_data('cold-springs-fire')\n",
    "os.chdir(os.path.join(et.io.HOME, 'earth-analytics', 'data'))"
   ]
  },
  {
   "cell_type": "markdown",
   "metadata": {
    "id": "EI82feoVL6f2"
   },
   "source": [
    "Next, open up the NAIP data that you wish to calculate NDVI with. You will use the data from 2015:\n",
    "\n",
    "data/cold-springs-fire/naip/m_3910505_nw_13_1_20150919/crop/m_3910505_nw_13_1_20150919_crop.tif"
   ]
  },
  {
   "cell_type": "code",
   "execution_count": null,
   "metadata": {
    "colab": {
     "base_uri": "https://localhost:8080/"
    },
    "id": "J2bqejC2L5Jp",
    "outputId": "7a517dd8-07ef-4259-8aff-9382c59a7f6f"
   },
   "outputs": [],
   "source": [
    "naip_data_path = os.path.join(\"cold-springs-fire\",\n",
    "                              \"naip\",\n",
    "                              \"m_3910505_nw_13_1_20150919\",\n",
    "                              \"crop\",\n",
    "                              \"m_3910505_nw_13_1_20150919_crop.tif\")\n",
    "\n",
    "naip_data = rxr.open_rasterio(naip_data_path)\n",
    "\n",
    "# View shape of the data\n",
    "naip_data.shape"
   ]
  },
  {
   "cell_type": "markdown",
   "metadata": {
    "id": "NhA1Rmu0MJl4"
   },
   "source": [
    "Calculate NDVI using regular numpy array math. In this case, the bands you are subtracting come from the same data file. The tif file format requires that all layers are in the same CRS and of the same size so you assume the data line up. Thus you do not need to test the data for equal shape, crs and extent."
   ]
  },
  {
   "cell_type": "code",
   "execution_count": null,
   "metadata": {
    "id": "liP0vkaGMLtW"
   },
   "outputs": [],
   "source": [
    "naip_ndvi = es.normalized_diff(naip_data[3], naip_data[0])"
   ]
  },
  {
   "cell_type": "markdown",
   "metadata": {
    "id": "0SvVhd6rMNwu"
   },
   "source": [
    "Finally plot the data. Note below that the vmin= and vmax= arguments are used to stretch the colorbar across the full possible range of NDVI values (-1 to 1)."
   ]
  },
  {
   "cell_type": "code",
   "execution_count": null,
   "metadata": {
    "colab": {
     "base_uri": "https://localhost:8080/",
     "height": 408
    },
    "id": "Bk-KtJSxMPsO",
    "outputId": "3c7a3561-ae52-4266-d1b2-736e03cc9a01"
   },
   "outputs": [],
   "source": [
    "ep.plot_bands(naip_ndvi,\n",
    "              cmap='PiYG',\n",
    "              scale=False,\n",
    "              vmin=-1, vmax=1,\n",
    "              title=\"NAIP Derived NDVI\\n 19 September 2015 - Cold Springs Fire, Colorado\")\n",
    "plt.show()"
   ]
  },
  {
   "cell_type": "markdown",
   "metadata": {
    "id": "aLW3HNnEMULn"
   },
   "source": [
    "**View Distribution of NDVI Values**\n",
    "Using a histogram, you can view the distribution of pixel values in your NDVI outp"
   ]
  },
  {
   "cell_type": "code",
   "execution_count": null,
   "metadata": {
    "colab": {
     "base_uri": "https://localhost:8080/",
     "height": 405
    },
    "id": "ynTKfW4wMWw1",
    "outputId": "5178be7b-04bd-4b63-9411-ba36037e6484"
   },
   "outputs": [],
   "source": [
    "ep.hist(naip_ndvi.values,\n",
    "        figsize=(12, 6),\n",
    "        title=[\"NDVI: Distribution of pixels\\n NAIP 2015 Cold Springs fire site\"])\n",
    "\n",
    "plt.show()"
   ]
  },
  {
   "cell_type": "markdown",
   "metadata": {
    "id": "18mrecGdMbgX"
   },
   "source": [
    "Optional - Export a Numpy Array to a Raster Geotiff in Python\n",
    "When you are done, you can export your NDVI raster data so you could use them in QGIS or ArcGIS or share them with your colleagues. To do this, you use the xarray_name.rio.to_raster() function.\n",
    "\n",
    "You can view the type of data stored within the ndvi array using .dtype. Remember that the naip_ndvi object is a xarray DataArray."
   ]
  },
  {
   "cell_type": "code",
   "execution_count": null,
   "metadata": {
    "colab": {
     "base_uri": "https://localhost:8080/"
    },
    "id": "wBxsv5OfMPz6",
    "outputId": "aef439cd-d70e-49b8-c8a9-adb2577893fb"
   },
   "outputs": [],
   "source": [
    "type(naip_ndvi), naip_ndvi.dtype"
   ]
  },
  {
   "cell_type": "markdown",
   "metadata": {
    "id": "ImufDvaaMged"
   },
   "source": [
    "Note below that when we write the raster, we use the custom outpath that we make to write it out to a filename and location of our cho"
   ]
  },
  {
   "cell_type": "code",
   "execution_count": null,
   "metadata": {
    "id": "6DmXLopdMiM9"
   },
   "outputs": [],
   "source": [
    "naip_ndvi_outpath = os.path.join(\"cold-springs-fire\",\n",
    "                                 \"outputs\",\n",
    "                                 \"naip_ndvi.tif\")\n",
    "\n",
    "# Write your the ndvi raster object\n",
    "naip_ndvi.rio.to_raster(naip_ndvi_outpath)"
   ]
  },
  {
   "cell_type": "markdown",
   "metadata": {},
   "source": [
   
