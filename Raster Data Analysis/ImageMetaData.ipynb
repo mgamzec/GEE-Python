{
  "nbformat": 4,
  "nbformat_minor": 0,
  "metadata": {
    "colab": {
      "provenance": []
    },
    "kernelspec": {
      "name": "python3",
      "display_name": "Python 3"
    },
    "language_info": {
      "name": "python"
    }
  },
  "cells": [
    {
      "cell_type": "code",
      "execution_count": 1,
      "metadata": {
        "colab": {
          "base_uri": "https://localhost:8080/"
        },
        "id": "BklB8TtxNe7D",
        "outputId": "a6ac2e20-c072-4db4-de66-c7e7ae7f779f"
      },
      "outputs": [
        {
          "output_type": "stream",
          "name": "stdout",
          "text": [
            "To authorize access needed by Earth Engine, open the following URL in a web browser and follow the instructions. If the web browser does not start automatically, please manually browse the URL below.\n",
            "\n",
            "    https://code.earthengine.google.com/client-auth?scopes=https%3A//www.googleapis.com/auth/earthengine%20https%3A//www.googleapis.com/auth/devstorage.full_control&request_id=WF3jevrT7NJqI7swxYy2QOz0pZ72Mp6l4Xu3f35FqNI&tc=sMgg_zTJ1zPoa4QJdT_TQC0hzU8v792rtJo6m80-pKI&cc=1L7IZxRRnN9eeVMCqB2JdUdSqTjdFulXDgKnMEEZefc\n",
            "\n",
            "The authorization workflow will generate a code, which you should paste in the box below.\n",
            "Enter verification code: 4/1AZEOvhW3Zbmb19SFVR9wFoGhSv5HQ2YZRmWVvepw7Gh_m-_FKcJj3a1PtPQ\n",
            "\n",
            "Successfully saved authorization token.\n"
          ]
        }
      ],
      "source": [
        "#Import earth engine\n",
        "import ee\n",
        "\n",
        "# Trigger the authentication flow.\n",
        "ee.Authenticate()\n",
        "\n",
        "# Initialize the library.\n",
        "ee.Initialize()"
      ]
    },
    {
      "cell_type": "code",
      "source": [
        "image = ee.Image('LANDSAT/LC8_L1T/LC80440342014077LGN00')\n",
        "bandNames = image.bandNames()\n",
        "print(bandNames.getInfo())"
      ],
      "metadata": {
        "colab": {
          "base_uri": "https://localhost:8080/"
        },
        "id": "PRg40nt_Suyf",
        "outputId": "a7fdd158-d3f0-4a68-985c-0b64ec78313f"
      },
      "execution_count": 2,
      "outputs": [
        {
          "output_type": "stream",
          "name": "stdout",
          "text": [
            "['B1', 'B2', 'B3', 'B4', 'B5', 'B6', 'B7', 'B8', 'B9', 'B10', 'B11', 'BQA']\n"
          ]
        }
      ]
    },
    {
      "cell_type": "code",
      "source": [
        "b1proj = image.select('B1').projection()\n",
        "print(b1proj.getInfo())"
      ],
      "metadata": {
        "colab": {
          "base_uri": "https://localhost:8080/"
        },
        "id": "xy3x0JFkSygP",
        "outputId": "085f50d7-cca1-40b4-fcc5-299c6d27a0bf"
      },
      "execution_count": 3,
      "outputs": [
        {
          "output_type": "stream",
          "name": "stdout",
          "text": [
            "{'type': 'Projection', 'crs': 'EPSG:32610', 'transform': [30, 0, 460485, 0, -30, 4264515]}\n"
          ]
        }
      ]
    },
    {
      "cell_type": "code",
      "source": [
        "b1scale = image.select('B1').projection().nominalScale()\n",
        "print(b1scale.getInfo())"
      ],
      "metadata": {
        "colab": {
          "base_uri": "https://localhost:8080/"
        },
        "id": "CNKghatmS2FI",
        "outputId": "4e220848-319c-44b9-c6b7-872a04c26080"
      },
      "execution_count": 4,
      "outputs": [
        {
          "output_type": "stream",
          "name": "stdout",
          "text": [
            "30\n"
          ]
        }
      ]
    },
    {
      "cell_type": "code",
      "source": [
        "b8scale = image.select('B8').projection().nominalScale()\n",
        "print(b8scale.getInfo())"
      ],
      "metadata": {
        "colab": {
          "base_uri": "https://localhost:8080/"
        },
        "id": "GKGpSde9S6N_",
        "outputId": "2948ec72-110f-4faa-f0f0-c4546f031e95"
      },
      "execution_count": 5,
      "outputs": [
        {
          "output_type": "stream",
          "name": "stdout",
          "text": [
            "15\n"
          ]
        }
      ]
    },
    {
      "cell_type": "code",
      "source": [
        "properties = image.propertyNames()\n",
        "print(properties.getInfo())"
      ],
      "metadata": {
        "colab": {
          "base_uri": "https://localhost:8080/"
        },
        "id": "Zm5yLMWnS-Dx",
        "outputId": "8ad990d3-dfb1-4fc5-ef09-2619720ba20f"
      },
      "execution_count": 6,
      "outputs": [
        {
          "output_type": "stream",
          "name": "stdout",
          "text": [
            "['RADIANCE_MULT_BAND_5', 'RADIANCE_MULT_BAND_6', 'RADIANCE_MULT_BAND_3', 'RADIANCE_MULT_BAND_4', 'RADIANCE_MULT_BAND_1', 'RADIANCE_MULT_BAND_2', 'system:id', 'K2_CONSTANT_BAND_11', 'K2_CONSTANT_BAND_10', 'system:footprint', 'REFLECTIVE_SAMPLES', 'SUN_AZIMUTH', 'CORNER_UL_PROJECTION_Y_PRODUCT', 'CPF_NAME', 'CORNER_LR_PROJECTION_Y_PRODUCT', 'DATE_ACQUIRED', 'ELLIPSOID', 'google:registration_offset_x', 'google:registration_offset_y', 'STATION_ID', 'RESAMPLING_OPTION', 'RADIANCE_MINIMUM_BAND_11', 'RADIANCE_MINIMUM_BAND_10', 'ORIENTATION', 'WRS_ROW', 'RADIANCE_MULT_BAND_9', 'TARGET_WRS_ROW', 'RADIANCE_MULT_BAND_7', 'RADIANCE_MULT_BAND_8', 'IMAGE_QUALITY_TIRS', 'QUANTIZE_CAL_MIN_BAND_9', 'QUANTIZE_CAL_MIN_BAND_8', 'QUANTIZE_CAL_MIN_BAND_7', 'QUANTIZE_CAL_MIN_BAND_6', 'QUANTIZE_CAL_MIN_BAND_5', 'CLOUD_COVER', 'QUANTIZE_CAL_MIN_BAND_4', 'QUANTIZE_CAL_MIN_BAND_3', 'QUANTIZE_CAL_MIN_BAND_2', 'QUANTIZE_CAL_MIN_BAND_1', 'GEOMETRIC_RMSE_VERIFY', 'CORNER_LL_LON_PRODUCT', 'CORNER_LR_LON_PRODUCT', 'GRID_CELL_SIZE_REFLECTIVE', 'RADIANCE_MAXIMUM_BAND_9', 'ORIGIN', 'RADIANCE_MAXIMUM_BAND_8', 'RADIANCE_MAXIMUM_BAND_7', 'RADIANCE_MAXIMUM_BAND_2', 'RADIANCE_MAXIMUM_BAND_1', 'RADIANCE_MAXIMUM_BAND_6', 'GEOMETRIC_RMSE_MODEL', 'RADIANCE_MAXIMUM_BAND_5', 'RADIANCE_MAXIMUM_BAND_4', 'RADIANCE_MAXIMUM_BAND_3', 'QUANTIZE_CAL_MAX_BAND_10', 'IMAGE_QUALITY_OLI', 'LANDSAT_SCENE_ID', 'WRS_PATH', 'google:registration_count', 'PANCHROMATIC_SAMPLES', 'PANCHROMATIC_LINES', 'REFLECTANCE_MAXIMUM_BAND_8', 'REFLECTANCE_MAXIMUM_BAND_9', 'RADIANCE_MAXIMUM_BAND_11', 'RADIANCE_MAXIMUM_BAND_10', 'CORNER_LL_LAT_PRODUCT', 'GEOMETRIC_RMSE_MODEL_Y', 'REFLECTIVE_LINES', 'GEOMETRIC_RMSE_MODEL_X', 'catalog_cloud_cover', 'system:asset_size', 'QUANTIZE_CAL_MAX_BAND_11', 'system:index', 'CORNER_LL_PROJECTION_Y_PRODUCT', 'CORNER_UL_LON_PRODUCT', 'REFLECTANCE_MAXIMUM_BAND_2', 'REFLECTANCE_MAXIMUM_BAND_3', 'CORNER_UR_LON_PRODUCT', 'REFLECTANCE_MAXIMUM_BAND_1', 'REFLECTANCE_MAXIMUM_BAND_6', 'REFLECTANCE_MAXIMUM_BAND_7', 'REFLECTANCE_MAXIMUM_BAND_4', 'REFLECTANCE_MAXIMUM_BAND_5', 'REFLECTANCE_ADD_BAND_1', 'REFLECTANCE_ADD_BAND_2', 'CORNER_LR_LAT_PRODUCT', 'DATUM', 'REFLECTANCE_ADD_BAND_3', 'REFLECTANCE_ADD_BAND_4', 'RLUT_FILE_NAME', 'REFLECTANCE_ADD_BAND_5', 'REFLECTANCE_ADD_BAND_6', 'REFLECTANCE_ADD_BAND_7', 'REFLECTANCE_ADD_BAND_8', 'BPF_NAME_TIRS', 'system:version', 'DATA_TYPE', 'UTM_ZONE', 'system:time_end', 'REFLECTANCE_ADD_BAND_9', 'google:registration_ratio', 'GRID_CELL_SIZE_PANCHROMATIC', 'google:cloud_storage_path', 'RADIANCE_ADD_BAND_4', 'REFLECTANCE_MULT_BAND_7', 'system:time_start', 'RADIANCE_ADD_BAND_5', 'REFLECTANCE_MULT_BAND_6', 'RADIANCE_ADD_BAND_6', 'REFLECTANCE_MULT_BAND_9', 'PROCESSING_SOFTWARE_VERSION', 'RADIANCE_ADD_BAND_7', 'REFLECTANCE_MULT_BAND_8', 'RADIANCE_ADD_BAND_1', 'RADIANCE_ADD_BAND_2', 'RADIANCE_ADD_BAND_3', 'CORNER_UR_PROJECTION_Y_PRODUCT', 'REFLECTANCE_MULT_BAND_1', 'RADIANCE_ADD_BAND_8', 'REFLECTANCE_MULT_BAND_3', 'RADIANCE_ADD_BAND_9', 'REFLECTANCE_MULT_BAND_2', 'REFLECTANCE_MULT_BAND_5', 'REFLECTANCE_MULT_BAND_4', 'THERMAL_LINES', 'QUANTIZE_CAL_MAX_BAND_7', 'QUANTIZE_CAL_MAX_BAND_6', 'GRID_CELL_SIZE_THERMAL', 'QUANTIZE_CAL_MAX_BAND_5', 'QUANTIZE_CAL_MAX_BAND_4', 'QUANTIZE_CAL_MAX_BAND_3', 'QUANTIZE_CAL_MAX_BAND_2', 'QUANTIZE_CAL_MAX_BAND_1', 'catalog_image_quality1', 'NADIR_OFFNADIR', 'RADIANCE_ADD_BAND_11', 'REFLECTANCE_MINIMUM_BAND_8', 'CORNER_UR_LAT_PRODUCT', 'REFLECTANCE_MINIMUM_BAND_9', 'REFLECTANCE_MINIMUM_BAND_6', 'CORNER_LL_PROJECTION_X_PRODUCT', 'REFLECTANCE_MINIMUM_BAND_7', 'REQUEST_ID', 'EARTH_SUN_DISTANCE', 'QUANTIZE_CAL_MAX_BAND_9', 'FILE_DATE', 'QUANTIZE_CAL_MAX_BAND_8', 'SCENE_CENTER_TIME', 'REFLECTANCE_MINIMUM_BAND_1', 'SUN_ELEVATION', 'BPF_NAME_OLI', 'CORNER_UL_PROJECTION_X_PRODUCT', 'RADIANCE_MINIMUM_BAND_4', 'REFLECTANCE_MINIMUM_BAND_4', 'RADIANCE_MINIMUM_BAND_3', 'REFLECTANCE_MINIMUM_BAND_5', 'RADIANCE_MINIMUM_BAND_2', 'REFLECTANCE_MINIMUM_BAND_2', 'RADIANCE_ADD_BAND_10', 'RADIANCE_MINIMUM_BAND_1', 'REFLECTANCE_MINIMUM_BAND_3', 'RADIANCE_MINIMUM_BAND_8', 'RADIANCE_MINIMUM_BAND_7', 'RADIANCE_MINIMUM_BAND_6', 'RADIANCE_MINIMUM_BAND_5', 'CORNER_UL_LAT_PRODUCT', 'ROLL_ANGLE', 'RADIANCE_MINIMUM_BAND_9', 'K1_CONSTANT_BAND_10', 'MAP_PROJECTION', 'SENSOR_ID', 'K1_CONSTANT_BAND_11', 'TARGET_WRS_PATH', 'RADIANCE_MULT_BAND_11', 'CORNER_LR_PROJECTION_X_PRODUCT', 'RADIANCE_MULT_BAND_10', 'GROUND_CONTROL_POINTS_MODEL', 'QUANTIZE_CAL_MIN_BAND_11', 'QUANTIZE_CAL_MIN_BAND_10', 'SPACECRAFT_ID', 'CORNER_UR_PROJECTION_X_PRODUCT', 'ELEVATION_SOURCE', 'THERMAL_SAMPLES', 'GROUND_CONTROL_POINTS_VERIFY', 'system:bands', 'system:band_names']\n"
          ]
        }
      ]
    },
    {
      "cell_type": "code",
      "source": [
        "cloudiness = image.get('CLOUD_COVER')\n",
        "print(cloudiness.getInfo())"
      ],
      "metadata": {
        "colab": {
          "base_uri": "https://localhost:8080/"
        },
        "id": "5GNcvyLaTBAb",
        "outputId": "a8b52f62-0fed-4c7a-b3a8-2fc860e0172a"
      },
      "execution_count": 7,
      "outputs": [
        {
          "output_type": "stream",
          "name": "stdout",
          "text": [
            "0.3400000035762787\n"
          ]
        }
      ]
    },
    {
      "cell_type": "code",
      "source": [
        "date = ee.Date(image.get('system:time_start'))\n",
        "print(date.getInfo)"
      ],
      "metadata": {
        "colab": {
          "base_uri": "https://localhost:8080/"
        },
        "id": "1qklh3snTErH",
        "outputId": "a107f397-5146-4877-c63e-439e9f3a92d6"
      },
      "execution_count": 8,
      "outputs": [
        {
          "output_type": "stream",
          "name": "stdout",
          "text": [
            "<bound method ComputedObject.getInfo of <ee.ee_date.Date object at 0x7fafa1425f60>>\n"
          ]
        }
      ]
    }
  ]
}