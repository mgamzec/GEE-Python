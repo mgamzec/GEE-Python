{
  "nbformat": 4,
  "nbformat_minor": 0,
  "metadata": {
    "colab": {
      "provenance": []
    },
    "kernelspec": {
      "name": "python3",
      "display_name": "Python 3"
    },
    "language_info": {
      "name": "python"
    }
  },
  "cells": [
    {
      "cell_type": "code",
      "execution_count": 1,
      "metadata": {
        "colab": {
          "base_uri": "https://localhost:8080/"
        },
        "id": "HORzbD8iGucy",
        "outputId": "308af40b-0095-4739-cc8e-3ee2e1ed63b5"
      },
      "outputs": [
        {
          "output_type": "stream",
          "name": "stdout",
          "text": [
            "To authorize access needed by Earth Engine, open the following URL in a web browser and follow the instructions. If the web browser does not start automatically, please manually browse the URL below.\n",
            "\n",
            "    https://code.earthengine.google.com/client-auth?scopes=https%3A//www.googleapis.com/auth/earthengine%20https%3A//www.googleapis.com/auth/devstorage.full_control&request_id=DhboBHQRe_Ru4IVOyhHab9aYvmiBchLr6Hrg8MzFYVQ&tc=7zJHBgDIB7okirI6kSkNILOsT2LLwTFB_aDmR5YNC7c&cc=Yvs21MDI-EDREIPuSCZ0IrHSbkaQY9PfVTXuJWB_s3g\n",
            "\n",
            "The authorization workflow will generate a code, which you should paste in the box below.\n",
            "Enter verification code: 4/1AZEOvhX-xBi8O-c69M5JoFucDJvrcJqA_je_8Axoi70X_tVdcSwJb5WAW-w\n",
            "\n",
            "Successfully saved authorization token.\n"
          ]
        }
      ],
      "source": [
        "#Import earth engine\n",
        "import ee\n",
        "\n",
        "# Trigger the authentication flow.\n",
        "ee.Authenticate()\n",
        "\n",
        "# Initialize the library.\n",
        "ee.Initialize()"
      ]
    },
    {
      "cell_type": "code",
      "source": [
        "#Export Images\n",
        "\n",
        "# Load a landsat image and select three bands\n",
        "Landsat8 = ee.Image('LANDSAT/LC08/C01/T1_TOA/LC08_170052_20170108').select(['B4', 'B3', 'B2'])\n",
        "\n",
        "#Create region\n",
        "region = ee.Geometry.Rectangle(37.07, 11.50, 37.39, 11.82)"
      ],
      "metadata": {
        "id": "HOGYTsM-HQKY"
      },
      "execution_count": 3,
      "outputs": []
    },
    {
      "cell_type": "code",
      "source": [
        "# Export to Drive\n",
        "task = ee.batch.Export.image.toDrive(**{\n",
        "    'image': Landsat8,\n",
        "    'description': 'imagetoDrive_L8',\n",
        "    'folder': \"Example_Data\",\n",
        "    'scale': 30,\n",
        "    'region': region.getInfo()['coordinates']\n",
        "})\n",
        "task.start()"
      ],
      "metadata": {
        "id": "3AyYWtmWJNUA"
      },
      "execution_count": 4,
      "outputs": []
    }
  ]
}