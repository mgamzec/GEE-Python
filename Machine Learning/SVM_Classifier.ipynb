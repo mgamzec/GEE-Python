{
  "nbformat": 4,
  "nbformat_minor": 0,
  "metadata": {
    "colab": {
      "provenance": []
    },
    "kernelspec": {
      "name": "python3",
      "display_name": "Python 3"
    },
    "language_info": {
      "name": "python"
    }
  },
  "cells": [
    {
      "cell_type": "code",
      "execution_count": 1,
      "metadata": {
        "colab": {
          "base_uri": "https://localhost:8080/"
        },
        "id": "gNixO3UoFeQe",
        "outputId": "b561419e-ec12-4bd9-80aa-b1af249a5542"
      },
      "outputs": [
        {
          "output_type": "stream",
          "name": "stdout",
          "text": [
            "To authorize access needed by Earth Engine, open the following URL in a web browser and follow the instructions. If the web browser does not start automatically, please manually browse the URL below.\n",
            "\n",
            "    https://code.earthengine.google.com/client-auth?scopes=https%3A//www.googleapis.com/auth/earthengine%20https%3A//www.googleapis.com/auth/devstorage.full_control&request_id=yrgsvigOkzswXPF_7J_zgfzEATBz3Ecrp2BrGsxAw8A&tc=xhJG3A9aTPSuA9hIh88K5l6NF0Ca5-7Hri_d3QwmSA4&cc=x1KlyLmPsEK-7sft4vrG0BTIbml8r-tDc5wxjzDQjnY\n",
            "\n",
            "The authorization workflow will generate a code, which you should paste in the box below.\n",
            "Enter verification code: 4/1AZEOvhV2wpVI7cxI7QvBwfzqX9ftVJSrS54BUkc-EkgH3369AcFgdrHmnGU\n",
            "\n",
            "Successfully saved authorization token.\n"
          ]
        }
      ],
      "source": [
        "#Import earth engine\n",
        "import ee\n",
        "\n",
        "# Trigger the authentication flow.\n",
        "ee.Authenticate()\n",
        "\n",
        "# Initialize the library.\n",
        "ee.Initialize()"
      ]
    },
    {
      "cell_type": "code",
      "source": [
        "#Get a feature collection with Egypt\n",
        "countries = ee.FeatureCollection('USDOS/LSIB_SIMPLE/2017')\n",
        "Turkey = countries.filter(ee.Filter.eq('country_na', 'Turkey'))\n",
        "\n",
        "# Load point\n",
        "point1 = ee.Geometry.Point([35, 7])\n",
        "poin2 = ee.Geometry.Point([39, 12])\n",
        "\n",
        "#Compute a buffer of the polygon\n",
        "forest1 = point1.buffer(1000)\n",
        "nonforest1 = point1.buffer(1000)\n",
        "\n",
        "# Input imagery is a cloud free Landsat 8 composite\n",
        "l8 = ee.ImageCollection(\"LANDSAT/LC08/C01/T1\")\n",
        "\n",
        "image = ee.Algorithms.Landsat.simpleComposite(**{\n",
        "    'collection': l8.filterDate('2018-01-01', '2018-12-31'),\n",
        "     'asFloat': True\n",
        "})"
      ],
      "metadata": {
        "id": "5ppFgT5_FwFb"
      },
      "execution_count": 9,
      "outputs": []
    },
    {
      "cell_type": "code",
      "source": [
        "# Use these bands for prediction\n",
        "bands = ['B1', 'B2', 'B3', 'B4', 'B5','B6','B7', 'B10', 'B11']"
      ],
      "metadata": {
        "id": "26Gl7gWaFzy3"
      },
      "execution_count": 10,
      "outputs": []
    },
    {
      "cell_type": "code",
      "source": [
        "# Make a feature collection from the hand-made geometries\n",
        "polygons = ee.FeatureCollection([\n",
        "  ee.Feature(nonforest1, {'class': 0}),\n",
        "  ee.Feature(forest1, {'class': 1}),\n",
        "])"
      ],
      "metadata": {
        "id": "BUF4raOfF55z"
      },
      "execution_count": 11,
      "outputs": []
    },
    {
      "cell_type": "code",
      "source": [
        "#Get the values for all the pixels in each polygon in the training\n",
        "training = image.sampleRegions(**{\n",
        "    # Get the sample form the polygons FeatureCollection\n",
        "    'collection': polygons,\n",
        "    # Keep this list of properties from the polygons\n",
        "     'properties': ['class'],\n",
        "      #Set the scale to get Landsat pixels in the polygons\n",
        "      'scale': 30\n",
        "})"
      ],
      "metadata": {
        "id": "2ypyi0eQF81e"
      },
      "execution_count": 12,
      "outputs": []
    },
    {
      "cell_type": "code",
      "source": [
        "# Create an SVM classifier with custom parameters\n",
        "classifier = ee.Classifier.libsvm(**{\n",
        "    'kernelType': 'RBF',\n",
        "    'gamma': 0.5,\n",
        "    'cost': 10\n",
        "})"
      ],
      "metadata": {
        "id": "kl85yRGVF_Nu"
      },
      "execution_count": 13,
      "outputs": []
    },
    {
      "cell_type": "code",
      "source": [
        "# Train the classifier\n",
        "trained = classifier.train(training, 'class', bands)"
      ],
      "metadata": {
        "id": "dDB9YarYGB6K"
      },
      "execution_count": 14,
      "outputs": []
    },
    {
      "cell_type": "code",
      "source": [
        "# Classify the image\n",
        "classified = image.classify(trained)\n",
        "\n",
        "# Clip image\n",
        "clip = classified.clip(Turkey)"
      ],
      "metadata": {
        "id": "Oi2od7-vGElO"
      },
      "execution_count": 15,
      "outputs": []
    },
    {
      "cell_type": "code",
      "source": [
        "# Import the Folium library.\n",
        "import folium\n",
        "\n",
        "# Define a method for displaying Earth Engine image tiles to folium map.\n",
        "def add_ee_layer(self, ee_image_object, vis_params, name):\n",
        "  map_id_dict = ee.Image(ee_image_object).getMapId(vis_params)\n",
        "  folium.raster_layers.TileLayer(\n",
        "    tiles = map_id_dict['tile_fetcher'].url_format,\n",
        "    attr = 'Map Data &copy; <a href=\"https://earthengine.google.com/\">Google Earth Engine</a>',\n",
        "    name = name,\n",
        "    overlay = True,\n",
        "    control = True\n",
        "  ).add_to(self)\n",
        "\n",
        "# Add EE drawing method to folium.\n",
        "folium.Map.add_ee_layer = add_ee_layer\n",
        "\n",
        "# Create a folium map object.\n",
        "my_map = folium.Map(location=[9, 39], zoom_start = 8)\n",
        "\n",
        "# Add the layer to the map object.\n",
        "#my_map.add_ee_layer(image, {'bands': ['B4', 'B3', 'B2'], 'max': 0.5, 'gamma': 2}, \"image\")\n",
        "my_map.add_ee_layer(clip, {'min': 0, 'max': 1, 'palette': ['green', 'red']}, 'deforestation')\n",
        "\n",
        "# Add a layer control panel to the map.\n",
        "my_map.add_child(folium.LayerControl())\n",
        "\n",
        "# Display the map.\n",
        "display(my_map)"
      ],
      "metadata": {
        "colab": {
          "base_uri": "https://localhost:8080/",
          "height": 712
        },
        "id": "FsQHsvtPGV_x",
        "outputId": "6c2faa9d-0e56-4ea7-a1f4-02b363047abc"
      },
      "execution_count": 17,
      "outputs": [
        {
          "output_type": "display_data",
          "data": {
            "text/plain": [
              "<folium.folium.Map at 0x7fceb2711ff0>"
            ],
            "text/html": [
              "<div style=\"width:100%;\"><div style=\"position:relative;width:100%;height:0;padding-bottom:60%;\"><span style=\"color:#565656\">Make this Notebook Trusted to load map: File -> Trust Notebook</span><iframe srcdoc=\"&lt;!DOCTYPE html&gt;\n",
              "&lt;html&gt;\n",
              "&lt;head&gt;\n",
              "    \n",
              "    &lt;meta http-equiv=&quot;content-type&quot; content=&quot;text/html; charset=UTF-8&quot; /&gt;\n",
              "    \n",
              "        &lt;script&gt;\n",
              "            L_NO_TOUCH = false;\n",
              "            L_DISABLE_3D = false;\n",
              "        &lt;/script&gt;\n",
              "    \n",
              "    &lt;style&gt;html, body {width: 100%;height: 100%;margin: 0;padding: 0;}&lt;/style&gt;\n",
              "    &lt;style&gt;#map {position:absolute;top:0;bottom:0;right:0;left:0;}&lt;/style&gt;\n",
              "    &lt;script src=&quot;https://cdn.jsdelivr.net/npm/leaflet@1.9.3/dist/leaflet.js&quot;&gt;&lt;/script&gt;\n",
              "    &lt;script src=&quot;https://code.jquery.com/jquery-1.12.4.min.js&quot;&gt;&lt;/script&gt;\n",
              "    &lt;script src=&quot;https://cdn.jsdelivr.net/npm/bootstrap@5.2.2/dist/js/bootstrap.bundle.min.js&quot;&gt;&lt;/script&gt;\n",
              "    &lt;script src=&quot;https://cdnjs.cloudflare.com/ajax/libs/Leaflet.awesome-markers/2.0.2/leaflet.awesome-markers.js&quot;&gt;&lt;/script&gt;\n",
              "    &lt;link rel=&quot;stylesheet&quot; href=&quot;https://cdn.jsdelivr.net/npm/leaflet@1.9.3/dist/leaflet.css&quot;/&gt;\n",
              "    &lt;link rel=&quot;stylesheet&quot; href=&quot;https://cdn.jsdelivr.net/npm/bootstrap@5.2.2/dist/css/bootstrap.min.css&quot;/&gt;\n",
              "    &lt;link rel=&quot;stylesheet&quot; href=&quot;https://netdna.bootstrapcdn.com/bootstrap/3.0.0/css/bootstrap.min.css&quot;/&gt;\n",
              "    &lt;link rel=&quot;stylesheet&quot; href=&quot;https://cdn.jsdelivr.net/npm/@fortawesome/fontawesome-free@6.2.0/css/all.min.css&quot;/&gt;\n",
              "    &lt;link rel=&quot;stylesheet&quot; href=&quot;https://cdnjs.cloudflare.com/ajax/libs/Leaflet.awesome-markers/2.0.2/leaflet.awesome-markers.css&quot;/&gt;\n",
              "    &lt;link rel=&quot;stylesheet&quot; href=&quot;https://cdn.jsdelivr.net/gh/python-visualization/folium/folium/templates/leaflet.awesome.rotate.min.css&quot;/&gt;\n",
              "    \n",
              "            &lt;meta name=&quot;viewport&quot; content=&quot;width=device-width,\n",
              "                initial-scale=1.0, maximum-scale=1.0, user-scalable=no&quot; /&gt;\n",
              "            &lt;style&gt;\n",
              "                #map_5bd031f95a3e98d114fc9febb9e4a0fb {\n",
              "                    position: relative;\n",
              "                    width: 100.0%;\n",
              "                    height: 100.0%;\n",
              "                    left: 0.0%;\n",
              "                    top: 0.0%;\n",
              "                }\n",
              "                .leaflet-container { font-size: 1rem; }\n",
              "            &lt;/style&gt;\n",
              "        \n",
              "&lt;/head&gt;\n",
              "&lt;body&gt;\n",
              "    \n",
              "    \n",
              "            &lt;div class=&quot;folium-map&quot; id=&quot;map_5bd031f95a3e98d114fc9febb9e4a0fb&quot; &gt;&lt;/div&gt;\n",
              "        \n",
              "&lt;/body&gt;\n",
              "&lt;script&gt;\n",
              "    \n",
              "    \n",
              "            var map_5bd031f95a3e98d114fc9febb9e4a0fb = L.map(\n",
              "                &quot;map_5bd031f95a3e98d114fc9febb9e4a0fb&quot;,\n",
              "                {\n",
              "                    center: [9.0, 39.0],\n",
              "                    crs: L.CRS.EPSG3857,\n",
              "                    zoom: 8,\n",
              "                    zoomControl: true,\n",
              "                    preferCanvas: false,\n",
              "                }\n",
              "            );\n",
              "\n",
              "            \n",
              "\n",
              "        \n",
              "    \n",
              "            var tile_layer_3d4303e4466d5c1ef79e019b754af9e4 = L.tileLayer(\n",
              "                &quot;https://{s}.tile.openstreetmap.org/{z}/{x}/{y}.png&quot;,\n",
              "                {&quot;attribution&quot;: &quot;Data by \\u0026copy; \\u003ca target=\\&quot;_blank\\&quot; href=\\&quot;http://openstreetmap.org\\&quot;\\u003eOpenStreetMap\\u003c/a\\u003e, under \\u003ca target=\\&quot;_blank\\&quot; href=\\&quot;http://www.openstreetmap.org/copyright\\&quot;\\u003eODbL\\u003c/a\\u003e.&quot;, &quot;detectRetina&quot;: false, &quot;maxNativeZoom&quot;: 18, &quot;maxZoom&quot;: 18, &quot;minZoom&quot;: 0, &quot;noWrap&quot;: false, &quot;opacity&quot;: 1, &quot;subdomains&quot;: &quot;abc&quot;, &quot;tms&quot;: false}\n",
              "            ).addTo(map_5bd031f95a3e98d114fc9febb9e4a0fb);\n",
              "        \n",
              "    \n",
              "            var tile_layer_aa25a87bab36b3cebd8504159ff1de69 = L.tileLayer(\n",
              "                &quot;https://earthengine.googleapis.com/v1alpha/projects/earthengine-legacy/maps/80670b0d2a73a5be38f7f7feede80ede-789c5835ea06e76c67ea1592b95e2fa0/tiles/{z}/{x}/{y}&quot;,\n",
              "                {&quot;attribution&quot;: &quot;Map Data \\u0026copy; \\u003ca href=\\&quot;https://earthengine.google.com/\\&quot;\\u003eGoogle Earth Engine\\u003c/a\\u003e&quot;, &quot;detectRetina&quot;: false, &quot;maxNativeZoom&quot;: 18, &quot;maxZoom&quot;: 18, &quot;minZoom&quot;: 0, &quot;noWrap&quot;: false, &quot;opacity&quot;: 1, &quot;subdomains&quot;: &quot;abc&quot;, &quot;tms&quot;: false}\n",
              "            ).addTo(map_5bd031f95a3e98d114fc9febb9e4a0fb);\n",
              "        \n",
              "    \n",
              "            var layer_control_af13bb74285cb265d127976a7ec966a6 = {\n",
              "                base_layers : {\n",
              "                    &quot;openstreetmap&quot; : tile_layer_3d4303e4466d5c1ef79e019b754af9e4,\n",
              "                },\n",
              "                overlays :  {\n",
              "                    &quot;deforestation&quot; : tile_layer_aa25a87bab36b3cebd8504159ff1de69,\n",
              "                },\n",
              "            };\n",
              "            L.control.layers(\n",
              "                layer_control_af13bb74285cb265d127976a7ec966a6.base_layers,\n",
              "                layer_control_af13bb74285cb265d127976a7ec966a6.overlays,\n",
              "                {&quot;autoZIndex&quot;: true, &quot;collapsed&quot;: true, &quot;position&quot;: &quot;topright&quot;}\n",
              "            ).addTo(map_5bd031f95a3e98d114fc9febb9e4a0fb);\n",
              "        \n",
              "&lt;/script&gt;\n",
              "&lt;/html&gt;\" style=\"position:absolute;width:100%;height:100%;left:0;top:0;border:none !important;\" allowfullscreen webkitallowfullscreen mozallowfullscreen></iframe></div></div>"
            ]
          },
          "metadata": {}
        }
      ]
    }
  ]
}